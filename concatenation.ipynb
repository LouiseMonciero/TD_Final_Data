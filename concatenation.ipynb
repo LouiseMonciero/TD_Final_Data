{
 "cells": [
  {
   "cell_type": "code",
   "execution_count": 2,
   "id": "0dc43137",
   "metadata": {},
   "outputs": [],
   "source": [
    "import pandas as pd"
   ]
  },
  {
   "cell_type": "code",
   "execution_count": 3,
   "id": "39d5a64d",
   "metadata": {},
   "outputs": [],
   "source": [
    "df = pd.read_csv('./data/data.zip')"
   ]
  },
  {
   "cell_type": "code",
   "execution_count": 4,
   "id": "5bfc3764",
   "metadata": {},
   "outputs": [
    {
     "data": {
      "text/plain": [
       "(134232, 16)"
      ]
     },
     "execution_count": 4,
     "metadata": {},
     "output_type": "execute_result"
    }
   ],
   "source": [
    "df.shape"
   ]
  },
  {
   "cell_type": "code",
   "execution_count": 12,
   "id": "4c82d596",
   "metadata": {},
   "outputs": [
    {
     "data": {
      "text/plain": [
       "(134232, 16)"
      ]
     },
     "execution_count": 12,
     "metadata": {},
     "output_type": "execute_result"
    }
   ],
   "source": [
    "df.drop_duplicates()\n",
    "df.shape"
   ]
  },
  {
   "cell_type": "code",
   "execution_count": 8,
   "id": "d5980b11",
   "metadata": {},
   "outputs": [],
   "source": [
    "df2 = pd.read_csv('./data_pour_TD_final/data.csv.zip')"
   ]
  },
  {
   "cell_type": "code",
   "execution_count": 9,
   "id": "96e28a0d",
   "metadata": {},
   "outputs": [
    {
     "data": {
      "text/plain": [
       "(134246, 14)"
      ]
     },
     "execution_count": 9,
     "metadata": {},
     "output_type": "execute_result"
    }
   ],
   "source": [
    "df2.shape"
   ]
  },
  {
   "cell_type": "code",
   "execution_count": 13,
   "id": "25af5e85",
   "metadata": {},
   "outputs": [
    {
     "data": {
      "text/plain": [
       "(134246, 14)"
      ]
     },
     "execution_count": 13,
     "metadata": {},
     "output_type": "execute_result"
    }
   ],
   "source": [
    "df2.drop_duplicates()\n",
    "df2.shape"
   ]
  },
  {
   "cell_type": "code",
   "execution_count": 5,
   "id": "6c5da45e",
   "metadata": {},
   "outputs": [],
   "source": [
    "df3 = pd.read_csv('./data/final_data.zip')"
   ]
  },
  {
   "cell_type": "code",
   "execution_count": 6,
   "id": "2d3e27e3",
   "metadata": {},
   "outputs": [
    {
     "data": {
      "text/plain": [
       "(268478, 16)"
      ]
     },
     "execution_count": 6,
     "metadata": {},
     "output_type": "execute_result"
    }
   ],
   "source": [
    "df3.shape"
   ]
  },
  {
   "cell_type": "code",
   "execution_count": 14,
   "id": "9fab9a75",
   "metadata": {},
   "outputs": [
    {
     "data": {
      "text/plain": [
       "(102186, 14)"
      ]
     },
     "execution_count": 14,
     "metadata": {},
     "output_type": "execute_result"
    }
   ],
   "source": [
    "df3.drop_duplicates()\n",
    "df3.shape"
   ]
  },
  {
   "cell_type": "markdown",
   "id": "5f12fd58",
   "metadata": {},
   "source": [
    "Concatenation"
   ]
  },
  {
   "cell_type": "code",
   "execution_count": 15,
   "id": "f53d3613",
   "metadata": {},
   "outputs": [],
   "source": [
    "df1 = pd.read_csv(\"data/data.csv\")\n",
    "df2 = pd.read_csv(\"data_pour_TD_final/data.csv.zip\")"
   ]
  },
  {
   "cell_type": "markdown",
   "id": "e2ca316f",
   "metadata": {},
   "source": [
    "Ajouter colonnes manquantes à df2"
   ]
  },
  {
   "cell_type": "code",
   "execution_count": 16,
   "id": "8c9d556d",
   "metadata": {},
   "outputs": [],
   "source": [
    "df2[\"Remote exploitable\"] = df2[\"Description\"].fillna(\"\").str.lower().str.contains(\"remote\")\n",
    "df2[\"Longueur description\"] = df2[\"Description\"].fillna(\"\").apply(len)"
   ]
  },
  {
   "cell_type": "code",
   "execution_count": 20,
   "id": "93465ed0",
   "metadata": {},
   "outputs": [
    {
     "data": {
      "text/html": [
       "<div>\n",
       "<style scoped>\n",
       "    .dataframe tbody tr th:only-of-type {\n",
       "        vertical-align: middle;\n",
       "    }\n",
       "\n",
       "    .dataframe tbody tr th {\n",
       "        vertical-align: top;\n",
       "    }\n",
       "\n",
       "    .dataframe thead th {\n",
       "        text-align: right;\n",
       "    }\n",
       "</style>\n",
       "<table border=\"1\" class=\"dataframe\">\n",
       "  <thead>\n",
       "    <tr style=\"text-align: right;\">\n",
       "      <th></th>\n",
       "      <th>ID_ANSSI</th>\n",
       "      <th>Titre</th>\n",
       "      <th>Type</th>\n",
       "      <th>Date</th>\n",
       "      <th>CVE</th>\n",
       "      <th>CVSS</th>\n",
       "      <th>Base Severity</th>\n",
       "      <th>CWE</th>\n",
       "      <th>EPSS</th>\n",
       "      <th>Lien</th>\n",
       "      <th>Description</th>\n",
       "      <th>Éditeur</th>\n",
       "      <th>Produit</th>\n",
       "      <th>Versions affectées</th>\n",
       "      <th>Remote exploitable</th>\n",
       "      <th>Longueur description</th>\n",
       "    </tr>\n",
       "  </thead>\n",
       "  <tbody>\n",
       "    <tr>\n",
       "      <th>0</th>\n",
       "      <td>CERTFR-2024-AVI-0465</td>\n",
       "      <td>Vulnérabilité dans MongoDB PyMongo</td>\n",
       "      <td>Avis</td>\n",
       "      <td>2024-06-06T07:11:10.939677</td>\n",
       "      <td>CVE-2024-5629</td>\n",
       "      <td>4.7</td>\n",
       "      <td>Moyenne</td>\n",
       "      <td>CWE-125</td>\n",
       "      <td>NaN</td>\n",
       "      <td>https://www.cert.ssi.gouv.fr/openapi.json</td>\n",
       "      <td>An out-of-bounds read in the 'bson' module of ...</td>\n",
       "      <td>MongoDB Inc</td>\n",
       "      <td>PyMongo</td>\n",
       "      <td>0</td>\n",
       "      <td>False</td>\n",
       "      <td>202</td>\n",
       "    </tr>\n",
       "    <tr>\n",
       "      <th>1</th>\n",
       "      <td>CERTFR-2025-AVI-0368</td>\n",
       "      <td>Multiples vulnérabilités dans le noyau Linux d...</td>\n",
       "      <td>Avis</td>\n",
       "      <td>2025-05-02T00:00:00.000000</td>\n",
       "      <td>CVE-2024-50063</td>\n",
       "      <td>NaN</td>\n",
       "      <td>NaN</td>\n",
       "      <td>Non disponible</td>\n",
       "      <td>NaN</td>\n",
       "      <td>https://www.cert.ssi.gouv.fr/openapi.json</td>\n",
       "      <td>In the Linux kernel, the following vulnerabili...</td>\n",
       "      <td>Linux</td>\n",
       "      <td>Linux</td>\n",
       "      <td>f1b9509c2fb0ef4db8d22dac9aef8e856a5d81f6, f1b9...</td>\n",
       "      <td>False</td>\n",
       "      <td>1747</td>\n",
       "    </tr>\n",
       "    <tr>\n",
       "      <th>2</th>\n",
       "      <td>CERTFR-2025-AVI-0368</td>\n",
       "      <td>Multiples vulnérabilités dans le noyau Linux d...</td>\n",
       "      <td>Avis</td>\n",
       "      <td>2025-05-02T00:00:00.000000</td>\n",
       "      <td>CVE-2024-50063</td>\n",
       "      <td>NaN</td>\n",
       "      <td>NaN</td>\n",
       "      <td>Non disponible</td>\n",
       "      <td>NaN</td>\n",
       "      <td>https://www.cert.ssi.gouv.fr/openapi.json</td>\n",
       "      <td>In the Linux kernel, the following vulnerabili...</td>\n",
       "      <td>Linux</td>\n",
       "      <td>Linux</td>\n",
       "      <td>5.5, 0, 6.6.57, 6.11.4, 6.12</td>\n",
       "      <td>False</td>\n",
       "      <td>1747</td>\n",
       "    </tr>\n",
       "    <tr>\n",
       "      <th>3</th>\n",
       "      <td>CERTFR-2025-AVI-0368</td>\n",
       "      <td>Multiples vulnérabilités dans le noyau Linux d...</td>\n",
       "      <td>Avis</td>\n",
       "      <td>2025-05-02T00:00:00.000000</td>\n",
       "      <td>CVE-2025-22033</td>\n",
       "      <td>NaN</td>\n",
       "      <td>NaN</td>\n",
       "      <td>Non disponible</td>\n",
       "      <td>NaN</td>\n",
       "      <td>https://www.cert.ssi.gouv.fr/openapi.json</td>\n",
       "      <td>In the Linux kernel, the following vulnerabili...</td>\n",
       "      <td>Linux</td>\n",
       "      <td>Linux</td>\n",
       "      <td>3fc24ef32d3b9368f4c103dcd21d6a3f959b4870, 3fc2...</td>\n",
       "      <td>False</td>\n",
       "      <td>2603</td>\n",
       "    </tr>\n",
       "    <tr>\n",
       "      <th>4</th>\n",
       "      <td>CERTFR-2025-AVI-0368</td>\n",
       "      <td>Multiples vulnérabilités dans le noyau Linux d...</td>\n",
       "      <td>Avis</td>\n",
       "      <td>2025-05-02T00:00:00.000000</td>\n",
       "      <td>CVE-2025-22033</td>\n",
       "      <td>NaN</td>\n",
       "      <td>NaN</td>\n",
       "      <td>Non disponible</td>\n",
       "      <td>NaN</td>\n",
       "      <td>https://www.cert.ssi.gouv.fr/openapi.json</td>\n",
       "      <td>In the Linux kernel, the following vulnerabili...</td>\n",
       "      <td>Linux</td>\n",
       "      <td>Linux</td>\n",
       "      <td>6.1, 0, 6.1.134, 6.6.87, 6.12.23, 6.13.11, 6.1...</td>\n",
       "      <td>False</td>\n",
       "      <td>2603</td>\n",
       "    </tr>\n",
       "    <tr>\n",
       "      <th>5</th>\n",
       "      <td>CERTFR-2025-AVI-0368</td>\n",
       "      <td>Multiples vulnérabilités dans le noyau Linux d...</td>\n",
       "      <td>Avis</td>\n",
       "      <td>2025-05-02T00:00:00.000000</td>\n",
       "      <td>CVE-2025-39728</td>\n",
       "      <td>NaN</td>\n",
       "      <td>NaN</td>\n",
       "      <td>Non disponible</td>\n",
       "      <td>NaN</td>\n",
       "      <td>https://www.cert.ssi.gouv.fr/openapi.json</td>\n",
       "      <td>In the Linux kernel, the following vulnerabili...</td>\n",
       "      <td>Linux</td>\n",
       "      <td>Linux</td>\n",
       "      <td>e620a1e061c4738e26c3edf2abaae7842532cd80, e620...</td>\n",
       "      <td>False</td>\n",
       "      <td>592</td>\n",
       "    </tr>\n",
       "    <tr>\n",
       "      <th>6</th>\n",
       "      <td>CERTFR-2025-AVI-0368</td>\n",
       "      <td>Multiples vulnérabilités dans le noyau Linux d...</td>\n",
       "      <td>Avis</td>\n",
       "      <td>2025-05-02T00:00:00.000000</td>\n",
       "      <td>CVE-2025-39728</td>\n",
       "      <td>NaN</td>\n",
       "      <td>NaN</td>\n",
       "      <td>Non disponible</td>\n",
       "      <td>NaN</td>\n",
       "      <td>https://www.cert.ssi.gouv.fr/openapi.json</td>\n",
       "      <td>In the Linux kernel, the following vulnerabili...</td>\n",
       "      <td>Linux</td>\n",
       "      <td>Linux</td>\n",
       "      <td>5.5, 0, 5.10.236, 5.15.180, 6.1.134, 6.6.87, 6...</td>\n",
       "      <td>False</td>\n",
       "      <td>592</td>\n",
       "    </tr>\n",
       "    <tr>\n",
       "      <th>7</th>\n",
       "      <td>CERTFR-2025-AVI-0368</td>\n",
       "      <td>Multiples vulnérabilités dans le noyau Linux d...</td>\n",
       "      <td>Avis</td>\n",
       "      <td>2025-05-02T00:00:00.000000</td>\n",
       "      <td>CVE-2025-22025</td>\n",
       "      <td>NaN</td>\n",
       "      <td>NaN</td>\n",
       "      <td>Non disponible</td>\n",
       "      <td>NaN</td>\n",
       "      <td>https://www.cert.ssi.gouv.fr/openapi.json</td>\n",
       "      <td>In the Linux kernel, the following vulnerabili...</td>\n",
       "      <td>Linux</td>\n",
       "      <td>Linux</td>\n",
       "      <td>1da177e4c3f41524e886b7f1b8a0c1fc7321cac2, 1da1...</td>\n",
       "      <td>False</td>\n",
       "      <td>2044</td>\n",
       "    </tr>\n",
       "    <tr>\n",
       "      <th>8</th>\n",
       "      <td>CERTFR-2025-AVI-0368</td>\n",
       "      <td>Multiples vulnérabilités dans le noyau Linux d...</td>\n",
       "      <td>Avis</td>\n",
       "      <td>2025-05-02T00:00:00.000000</td>\n",
       "      <td>CVE-2025-22025</td>\n",
       "      <td>NaN</td>\n",
       "      <td>NaN</td>\n",
       "      <td>Non disponible</td>\n",
       "      <td>NaN</td>\n",
       "      <td>https://www.cert.ssi.gouv.fr/openapi.json</td>\n",
       "      <td>In the Linux kernel, the following vulnerabili...</td>\n",
       "      <td>Linux</td>\n",
       "      <td>Linux</td>\n",
       "      <td>5.10.236, 5.15.180, 6.1.134, 6.6.87, 6.12.23, ...</td>\n",
       "      <td>False</td>\n",
       "      <td>2044</td>\n",
       "    </tr>\n",
       "    <tr>\n",
       "      <th>9</th>\n",
       "      <td>CERTFR-2025-AVI-0368</td>\n",
       "      <td>Multiples vulnérabilités dans le noyau Linux d...</td>\n",
       "      <td>Avis</td>\n",
       "      <td>2025-05-02T00:00:00.000000</td>\n",
       "      <td>CVE-2025-22027</td>\n",
       "      <td>NaN</td>\n",
       "      <td>NaN</td>\n",
       "      <td>Non disponible</td>\n",
       "      <td>NaN</td>\n",
       "      <td>https://www.cert.ssi.gouv.fr/openapi.json</td>\n",
       "      <td>In the Linux kernel, the following vulnerabili...</td>\n",
       "      <td>Linux</td>\n",
       "      <td>Linux</td>\n",
       "      <td>8e9e60640067858e8036d4d43bbf725c60613359, 8e9e...</td>\n",
       "      <td>False</td>\n",
       "      <td>971</td>\n",
       "    </tr>\n",
       "    <tr>\n",
       "      <th>10</th>\n",
       "      <td>CERTFR-2025-AVI-0368</td>\n",
       "      <td>Multiples vulnérabilités dans le noyau Linux d...</td>\n",
       "      <td>Avis</td>\n",
       "      <td>2025-05-02T00:00:00.000000</td>\n",
       "      <td>CVE-2025-22027</td>\n",
       "      <td>NaN</td>\n",
       "      <td>NaN</td>\n",
       "      <td>Non disponible</td>\n",
       "      <td>NaN</td>\n",
       "      <td>https://www.cert.ssi.gouv.fr/openapi.json</td>\n",
       "      <td>In the Linux kernel, the following vulnerabili...</td>\n",
       "      <td>Linux</td>\n",
       "      <td>Linux</td>\n",
       "      <td>2.6.36, 0, 5.10.237, 5.15.181, 6.1.134, 6.6.87...</td>\n",
       "      <td>False</td>\n",
       "      <td>971</td>\n",
       "    </tr>\n",
       "    <tr>\n",
       "      <th>11</th>\n",
       "      <td>CERTFR-2025-AVI-0368</td>\n",
       "      <td>Multiples vulnérabilités dans le noyau Linux d...</td>\n",
       "      <td>Avis</td>\n",
       "      <td>2025-05-02T00:00:00.000000</td>\n",
       "      <td>CVE-2025-21853</td>\n",
       "      <td>NaN</td>\n",
       "      <td>NaN</td>\n",
       "      <td>Non disponible</td>\n",
       "      <td>NaN</td>\n",
       "      <td>https://www.cert.ssi.gouv.fr/openapi.json</td>\n",
       "      <td>In the Linux kernel, the following vulnerabili...</td>\n",
       "      <td>Linux</td>\n",
       "      <td>Linux</td>\n",
       "      <td>fc9702273e2edb90400a34b3be76f7b08fa3344b, fc97...</td>\n",
       "      <td>False</td>\n",
       "      <td>817</td>\n",
       "    </tr>\n",
       "    <tr>\n",
       "      <th>12</th>\n",
       "      <td>CERTFR-2025-AVI-0368</td>\n",
       "      <td>Multiples vulnérabilités dans le noyau Linux d...</td>\n",
       "      <td>Avis</td>\n",
       "      <td>2025-05-02T00:00:00.000000</td>\n",
       "      <td>CVE-2025-21853</td>\n",
       "      <td>NaN</td>\n",
       "      <td>NaN</td>\n",
       "      <td>Non disponible</td>\n",
       "      <td>NaN</td>\n",
       "      <td>https://www.cert.ssi.gouv.fr/openapi.json</td>\n",
       "      <td>In the Linux kernel, the following vulnerabili...</td>\n",
       "      <td>Linux</td>\n",
       "      <td>Linux</td>\n",
       "      <td>5.5, 0, 5.10.237, 5.15.181, 6.1.135, 6.6.80, 6...</td>\n",
       "      <td>False</td>\n",
       "      <td>817</td>\n",
       "    </tr>\n",
       "    <tr>\n",
       "      <th>13</th>\n",
       "      <td>CERTFR-2025-AVI-0368</td>\n",
       "      <td>Multiples vulnérabilités dans le noyau Linux d...</td>\n",
       "      <td>Avis</td>\n",
       "      <td>2025-05-02T00:00:00.000000</td>\n",
       "      <td>CVE-2025-22040</td>\n",
       "      <td>7.8</td>\n",
       "      <td>Élevée</td>\n",
       "      <td>CWE-416</td>\n",
       "      <td>NaN</td>\n",
       "      <td>https://www.cert.ssi.gouv.fr/openapi.json</td>\n",
       "      <td>In the Linux kernel, the following vulnerabili...</td>\n",
       "      <td>Linux</td>\n",
       "      <td>Linux</td>\n",
       "      <td>0626e6641f6b467447c81dd7678a69c66f7746cf, 0626...</td>\n",
       "      <td>False</td>\n",
       "      <td>356</td>\n",
       "    </tr>\n",
       "    <tr>\n",
       "      <th>14</th>\n",
       "      <td>CERTFR-2025-AVI-0368</td>\n",
       "      <td>Multiples vulnérabilités dans le noyau Linux d...</td>\n",
       "      <td>Avis</td>\n",
       "      <td>2025-05-02T00:00:00.000000</td>\n",
       "      <td>CVE-2025-22040</td>\n",
       "      <td>7.8</td>\n",
       "      <td>Élevée</td>\n",
       "      <td>CWE-416</td>\n",
       "      <td>NaN</td>\n",
       "      <td>https://www.cert.ssi.gouv.fr/openapi.json</td>\n",
       "      <td>In the Linux kernel, the following vulnerabili...</td>\n",
       "      <td>Linux</td>\n",
       "      <td>Linux</td>\n",
       "      <td>5.15, 0, 6.1.134, 6.6.87, 6.12.23, 6.13.11, 6....</td>\n",
       "      <td>False</td>\n",
       "      <td>356</td>\n",
       "    </tr>\n",
       "  </tbody>\n",
       "</table>\n",
       "</div>"
      ],
      "text/plain": [
       "                ID_ANSSI                                              Titre  \\\n",
       "0   CERTFR-2024-AVI-0465                 Vulnérabilité dans MongoDB PyMongo   \n",
       "1   CERTFR-2025-AVI-0368  Multiples vulnérabilités dans le noyau Linux d...   \n",
       "2   CERTFR-2025-AVI-0368  Multiples vulnérabilités dans le noyau Linux d...   \n",
       "3   CERTFR-2025-AVI-0368  Multiples vulnérabilités dans le noyau Linux d...   \n",
       "4   CERTFR-2025-AVI-0368  Multiples vulnérabilités dans le noyau Linux d...   \n",
       "5   CERTFR-2025-AVI-0368  Multiples vulnérabilités dans le noyau Linux d...   \n",
       "6   CERTFR-2025-AVI-0368  Multiples vulnérabilités dans le noyau Linux d...   \n",
       "7   CERTFR-2025-AVI-0368  Multiples vulnérabilités dans le noyau Linux d...   \n",
       "8   CERTFR-2025-AVI-0368  Multiples vulnérabilités dans le noyau Linux d...   \n",
       "9   CERTFR-2025-AVI-0368  Multiples vulnérabilités dans le noyau Linux d...   \n",
       "10  CERTFR-2025-AVI-0368  Multiples vulnérabilités dans le noyau Linux d...   \n",
       "11  CERTFR-2025-AVI-0368  Multiples vulnérabilités dans le noyau Linux d...   \n",
       "12  CERTFR-2025-AVI-0368  Multiples vulnérabilités dans le noyau Linux d...   \n",
       "13  CERTFR-2025-AVI-0368  Multiples vulnérabilités dans le noyau Linux d...   \n",
       "14  CERTFR-2025-AVI-0368  Multiples vulnérabilités dans le noyau Linux d...   \n",
       "\n",
       "    Type                        Date             CVE  CVSS Base Severity  \\\n",
       "0   Avis  2024-06-06T07:11:10.939677   CVE-2024-5629   4.7       Moyenne   \n",
       "1   Avis  2025-05-02T00:00:00.000000  CVE-2024-50063   NaN           NaN   \n",
       "2   Avis  2025-05-02T00:00:00.000000  CVE-2024-50063   NaN           NaN   \n",
       "3   Avis  2025-05-02T00:00:00.000000  CVE-2025-22033   NaN           NaN   \n",
       "4   Avis  2025-05-02T00:00:00.000000  CVE-2025-22033   NaN           NaN   \n",
       "5   Avis  2025-05-02T00:00:00.000000  CVE-2025-39728   NaN           NaN   \n",
       "6   Avis  2025-05-02T00:00:00.000000  CVE-2025-39728   NaN           NaN   \n",
       "7   Avis  2025-05-02T00:00:00.000000  CVE-2025-22025   NaN           NaN   \n",
       "8   Avis  2025-05-02T00:00:00.000000  CVE-2025-22025   NaN           NaN   \n",
       "9   Avis  2025-05-02T00:00:00.000000  CVE-2025-22027   NaN           NaN   \n",
       "10  Avis  2025-05-02T00:00:00.000000  CVE-2025-22027   NaN           NaN   \n",
       "11  Avis  2025-05-02T00:00:00.000000  CVE-2025-21853   NaN           NaN   \n",
       "12  Avis  2025-05-02T00:00:00.000000  CVE-2025-21853   NaN           NaN   \n",
       "13  Avis  2025-05-02T00:00:00.000000  CVE-2025-22040   7.8        Élevée   \n",
       "14  Avis  2025-05-02T00:00:00.000000  CVE-2025-22040   7.8        Élevée   \n",
       "\n",
       "               CWE  EPSS                                       Lien  \\\n",
       "0          CWE-125   NaN  https://www.cert.ssi.gouv.fr/openapi.json   \n",
       "1   Non disponible   NaN  https://www.cert.ssi.gouv.fr/openapi.json   \n",
       "2   Non disponible   NaN  https://www.cert.ssi.gouv.fr/openapi.json   \n",
       "3   Non disponible   NaN  https://www.cert.ssi.gouv.fr/openapi.json   \n",
       "4   Non disponible   NaN  https://www.cert.ssi.gouv.fr/openapi.json   \n",
       "5   Non disponible   NaN  https://www.cert.ssi.gouv.fr/openapi.json   \n",
       "6   Non disponible   NaN  https://www.cert.ssi.gouv.fr/openapi.json   \n",
       "7   Non disponible   NaN  https://www.cert.ssi.gouv.fr/openapi.json   \n",
       "8   Non disponible   NaN  https://www.cert.ssi.gouv.fr/openapi.json   \n",
       "9   Non disponible   NaN  https://www.cert.ssi.gouv.fr/openapi.json   \n",
       "10  Non disponible   NaN  https://www.cert.ssi.gouv.fr/openapi.json   \n",
       "11  Non disponible   NaN  https://www.cert.ssi.gouv.fr/openapi.json   \n",
       "12  Non disponible   NaN  https://www.cert.ssi.gouv.fr/openapi.json   \n",
       "13         CWE-416   NaN  https://www.cert.ssi.gouv.fr/openapi.json   \n",
       "14         CWE-416   NaN  https://www.cert.ssi.gouv.fr/openapi.json   \n",
       "\n",
       "                                          Description      Éditeur  Produit  \\\n",
       "0   An out-of-bounds read in the 'bson' module of ...  MongoDB Inc  PyMongo   \n",
       "1   In the Linux kernel, the following vulnerabili...        Linux    Linux   \n",
       "2   In the Linux kernel, the following vulnerabili...        Linux    Linux   \n",
       "3   In the Linux kernel, the following vulnerabili...        Linux    Linux   \n",
       "4   In the Linux kernel, the following vulnerabili...        Linux    Linux   \n",
       "5   In the Linux kernel, the following vulnerabili...        Linux    Linux   \n",
       "6   In the Linux kernel, the following vulnerabili...        Linux    Linux   \n",
       "7   In the Linux kernel, the following vulnerabili...        Linux    Linux   \n",
       "8   In the Linux kernel, the following vulnerabili...        Linux    Linux   \n",
       "9   In the Linux kernel, the following vulnerabili...        Linux    Linux   \n",
       "10  In the Linux kernel, the following vulnerabili...        Linux    Linux   \n",
       "11  In the Linux kernel, the following vulnerabili...        Linux    Linux   \n",
       "12  In the Linux kernel, the following vulnerabili...        Linux    Linux   \n",
       "13  In the Linux kernel, the following vulnerabili...        Linux    Linux   \n",
       "14  In the Linux kernel, the following vulnerabili...        Linux    Linux   \n",
       "\n",
       "                                   Versions affectées  Remote exploitable  \\\n",
       "0                                                   0               False   \n",
       "1   f1b9509c2fb0ef4db8d22dac9aef8e856a5d81f6, f1b9...               False   \n",
       "2                        5.5, 0, 6.6.57, 6.11.4, 6.12               False   \n",
       "3   3fc24ef32d3b9368f4c103dcd21d6a3f959b4870, 3fc2...               False   \n",
       "4   6.1, 0, 6.1.134, 6.6.87, 6.12.23, 6.13.11, 6.1...               False   \n",
       "5   e620a1e061c4738e26c3edf2abaae7842532cd80, e620...               False   \n",
       "6   5.5, 0, 5.10.236, 5.15.180, 6.1.134, 6.6.87, 6...               False   \n",
       "7   1da177e4c3f41524e886b7f1b8a0c1fc7321cac2, 1da1...               False   \n",
       "8   5.10.236, 5.15.180, 6.1.134, 6.6.87, 6.12.23, ...               False   \n",
       "9   8e9e60640067858e8036d4d43bbf725c60613359, 8e9e...               False   \n",
       "10  2.6.36, 0, 5.10.237, 5.15.181, 6.1.134, 6.6.87...               False   \n",
       "11  fc9702273e2edb90400a34b3be76f7b08fa3344b, fc97...               False   \n",
       "12  5.5, 0, 5.10.237, 5.15.181, 6.1.135, 6.6.80, 6...               False   \n",
       "13  0626e6641f6b467447c81dd7678a69c66f7746cf, 0626...               False   \n",
       "14  5.15, 0, 6.1.134, 6.6.87, 6.12.23, 6.13.11, 6....               False   \n",
       "\n",
       "    Longueur description  \n",
       "0                    202  \n",
       "1                   1747  \n",
       "2                   1747  \n",
       "3                   2603  \n",
       "4                   2603  \n",
       "5                    592  \n",
       "6                    592  \n",
       "7                   2044  \n",
       "8                   2044  \n",
       "9                    971  \n",
       "10                   971  \n",
       "11                   817  \n",
       "12                   817  \n",
       "13                   356  \n",
       "14                   356  "
      ]
     },
     "execution_count": 20,
     "metadata": {},
     "output_type": "execute_result"
    }
   ],
   "source": [
    "df2.head(15)"
   ]
  },
  {
   "cell_type": "markdown",
   "id": "b80030a6",
   "metadata": {},
   "source": [
    "Concaténer les deux fichiers"
   ]
  },
  {
   "cell_type": "code",
   "execution_count": 21,
   "id": "20ba778f",
   "metadata": {},
   "outputs": [],
   "source": [
    "df_final = pd.concat([df1, df2], ignore_index=True)"
   ]
  },
  {
   "cell_type": "code",
   "execution_count": 22,
   "id": "17dac821",
   "metadata": {},
   "outputs": [
    {
     "data": {
      "text/plain": [
       "(268478, 16)"
      ]
     },
     "execution_count": 22,
     "metadata": {},
     "output_type": "execute_result"
    }
   ],
   "source": [
    "df_final.shape"
   ]
  },
  {
   "cell_type": "code",
   "execution_count": 23,
   "id": "1d47a7a6",
   "metadata": {},
   "outputs": [],
   "source": [
    "df_final.to_csv(\"final_data.csv\", index=False, encoding=\"utf-8\")"
   ]
  }
 ],
 "metadata": {
  "kernelspec": {
   "display_name": "Python 3",
   "language": "python",
   "name": "python3"
  },
  "language_info": {
   "codemirror_mode": {
    "name": "ipython",
    "version": 3
   },
   "file_extension": ".py",
   "mimetype": "text/x-python",
   "name": "python",
   "nbconvert_exporter": "python",
   "pygments_lexer": "ipython3",
   "version": "3.12.9"
  }
 },
 "nbformat": 4,
 "nbformat_minor": 5
}
